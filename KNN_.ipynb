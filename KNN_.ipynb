{
  "nbformat": 4,
  "nbformat_minor": 0,
  "metadata": {
    "colab": {
      "name": "KNN .ipynb",
      "provenance": [],
      "collapsed_sections": [],
      "authorship_tag": "ABX9TyPUYL36LimXV+KG02fHlxqM",
      "include_colab_link": true
    },
    "kernelspec": {
      "name": "python3",
      "display_name": "Python 3"
    },
    "language_info": {
      "name": "python"
    }
  },
  "cells": [
    {
      "cell_type": "markdown",
      "metadata": {
        "id": "view-in-github",
        "colab_type": "text"
      },
      "source": [
        "<a href=\"https://colab.research.google.com/github/pabhishekabi/Data-science_codes/blob/main/KNN_.ipynb\" target=\"_parent\"><img src=\"https://colab.research.google.com/assets/colab-badge.svg\" alt=\"Open In Colab\"/></a>"
      ]
    },
    {
      "cell_type": "code",
      "execution_count": 17,
      "metadata": {
        "id": "_EbI8FPq0D9D"
      },
      "outputs": [],
      "source": [
        " ##KNN CLASSIFICATION##\n",
        "from pandas import read_csv\n",
        "import numpy as np\n",
        "from sklearn.model_selection import KFold\n",
        "from sklearn.model_selection import cross_val_score\n",
        "from sklearn.neighbors import KNeighborsClassifier\n"
      ]
    },
    {
      "cell_type": "code",
      "source": [
        "filename = 'pima-inidans-diabetes.csv'\n",
        "name=[\n",
        "      'preg','plas','pres','skin','test','mass','pedi','age','class'\n",
        "]\n"
      ],
      "metadata": {
        "id": "ZBagqsTiQ0Rg"
      },
      "execution_count": 18,
      "outputs": []
    },
    {
      "cell_type": "code",
      "source": [
        "\n",
        "dataframe = read_csv('/content/pima-inidans-diabetes.csv')\n"
      ],
      "metadata": {
        "id": "RPBBQOuGR-M4"
      },
      "execution_count": 19,
      "outputs": []
    },
    {
      "cell_type": "code",
      "source": [
        "array = dataframe.values"
      ],
      "metadata": {
        "id": "8ot6uqgUS6uy"
      },
      "execution_count": 20,
      "outputs": []
    },
    {
      "cell_type": "code",
      "source": [
        "X = array[:,0:8]\n",
        "Y= array[:, 8]"
      ],
      "metadata": {
        "id": "1fWDwy_dUukv"
      },
      "execution_count": 21,
      "outputs": []
    },
    {
      "cell_type": "code",
      "source": [
        "num_fold = 10\n",
        "kfold = KFold(n_splits=10)"
      ],
      "metadata": {
        "id": "cbUDNtIvU5NJ"
      },
      "execution_count": 23,
      "outputs": []
    },
    {
      "cell_type": "code",
      "source": [
        "model = KNeighborsClassifier(n_neighbors=17)\n",
        "results = cross_val_score(model,X,Y,cv=kfold)"
      ],
      "metadata": {
        "id": "-GeeoW0nVO5T"
      },
      "execution_count": 24,
      "outputs": []
    },
    {
      "cell_type": "code",
      "source": [
        "print(results.mean())"
      ],
      "metadata": {
        "colab": {
          "base_uri": "https://localhost:8080/"
        },
        "id": "SyDCrq38Wy8y",
        "outputId": "fc165e01-c1f1-4483-ae65-4d5c15543118"
      },
      "execution_count": 25,
      "outputs": [
        {
          "output_type": "stream",
          "name": "stdout",
          "text": [
            "0.7565276828434724\n"
          ]
        }
      ]
    },
    {
      "cell_type": "markdown",
      "source": [
        "Grid search for algorithum tuning "
      ],
      "metadata": {
        "id": "Y7xsKZmbXEhY"
      }
    },
    {
      "cell_type": "code",
      "source": [
        "import numpy \n",
        "from pandas import read_csv\n",
        "from sklearn.neighbors import KNeighborsClassifier\n",
        "from sklearn.model_selection import GridSearchCV"
      ],
      "metadata": {
        "id": "RFEqXrBlW3qQ"
      },
      "execution_count": 38,
      "outputs": []
    },
    {
      "cell_type": "code",
      "source": [
        "filename = 'pima-inidans-diabetes.csv'\n",
        "name=[\n",
        "      'preg','plas','pres','skin','test','mass','pedi','age','class'\n",
        "]\n"
      ],
      "metadata": {
        "id": "CmUpmynkabNg"
      },
      "execution_count": 39,
      "outputs": []
    },
    {
      "cell_type": "code",
      "source": [
        "dataframe = read_csv('/content/pima-inidans-diabetes.csv')\n"
      ],
      "metadata": {
        "id": "B30BlKssagyF"
      },
      "execution_count": 40,
      "outputs": []
    },
    {
      "cell_type": "code",
      "source": [
        "array = dataframe.values\n",
        "X = array[:,0:8]\n",
        "Y= array[:, 8]"
      ],
      "metadata": {
        "id": "I8WRJbnWar8r"
      },
      "execution_count": 41,
      "outputs": []
    },
    {
      "cell_type": "code",
      "source": [
        " n_neighbors = numpy.array(range(1,40))\n",
        "param_grid = dict(n_neighbors=n_neighbors)"
      ],
      "metadata": {
        "id": "DM9iayB7a-H6"
      },
      "execution_count": 42,
      "outputs": []
    },
    {
      "cell_type": "code",
      "source": [
        "model = KNeighborsClassifier()\n",
        "grid = GridSearchCV(estimator=model,param_grid=param_grid)"
      ],
      "metadata": {
        "id": "L21VkMyzbPj7"
      },
      "execution_count": 43,
      "outputs": []
    },
    {
      "cell_type": "code",
      "source": [
        "grid.fit (X,Y)"
      ],
      "metadata": {
        "colab": {
          "base_uri": "https://localhost:8080/"
        },
        "id": "y6-YDAu2cMT2",
        "outputId": "6569fe2f-f54e-43fb-9f4f-c5d4a00e26b8"
      },
      "execution_count": 44,
      "outputs": [
        {
          "output_type": "execute_result",
          "data": {
            "text/plain": [
              "GridSearchCV(estimator=KNeighborsClassifier(),\n",
              "             param_grid={'n_neighbors': array([ 1,  2,  3,  4,  5,  6,  7,  8,  9, 10, 11, 12, 13, 14, 15, 16, 17,\n",
              "       18, 19, 20, 21, 22, 23, 24, 25, 26, 27, 28, 29, 30, 31, 32, 33, 34,\n",
              "       35, 36, 37, 38, 39])})"
            ]
          },
          "metadata": {},
          "execution_count": 44
        }
      ]
    },
    {
      "cell_type": "code",
      "source": [
        "print(grid.best_score_)\n",
        "print(grid.best_params_)"
      ],
      "metadata": {
        "colab": {
          "base_uri": "https://localhost:8080/"
        },
        "id": "0P0Y8IPKcWAU",
        "outputId": "ae76412d-2975-4884-a6f4-5aa05c8d92cc"
      },
      "execution_count": 45,
      "outputs": [
        {
          "output_type": "stream",
          "name": "stdout",
          "text": [
            "0.7578558696205755\n",
            "{'n_neighbors': 14}\n"
          ]
        }
      ]
    },
    {
      "cell_type": "markdown",
      "source": [
        "VISUALIZATION THE CV RESULTS "
      ],
      "metadata": {
        "id": "ruLhNDk_c1ni"
      }
    },
    {
      "cell_type": "code",
      "source": [
        "import matplotlib.pyplot as plt\n",
        "%matplotlib inline \n",
        "# choose k between 1 to 41\n",
        "k_range = range (1,41)\n",
        "k_scores = []\n",
        "#use iteration to caclulator diffrent k in models, then return the average accuracy based on \n",
        "for k in k_range  :\n",
        "  knn = KNeighborsClassifier(n_neighbors=k)\n",
        "  scores = cross_val_score(knn,X,Y, cv=5)\n",
        "  k_scores.append(scores.mean())\n",
        "  "
      ],
      "metadata": {
        "id": "13rzt9-0cu7t"
      },
      "execution_count": 55,
      "outputs": []
    },
    {
      "cell_type": "code",
      "source": [
        "#plot to see clearly \n",
        "plt.plot(k_range, k_scores)  \n",
        "plt.xlabel('Value of K for KNN')\n",
        "plt.ylabel('Cross-validated Accuracy')\n",
        "plt.show()"
      ],
      "metadata": {
        "colab": {
          "base_uri": "https://localhost:8080/",
          "height": 279
        },
        "id": "9oyeVghveymk",
        "outputId": "45e10903-7306-49fe-9377-5e58013d1d3f"
      },
      "execution_count": 58,
      "outputs": [
        {
          "output_type": "display_data",
          "data": {
            "image/png": "[encoded data removed]",
            "text/plain": [
              "<Figure size 432x288 with 1 Axes>"
            ]
          },
          "metadata": {
            "needs_background": "light"
          }
        }
      ]
    },
    {
      "cell_type": "code",
      "source": [
        ""
      ],
      "metadata": {
        "id": "QNy_XWfPgsgb"
      },
      "execution_count": null,
      "outputs": []
    }
  ]
}