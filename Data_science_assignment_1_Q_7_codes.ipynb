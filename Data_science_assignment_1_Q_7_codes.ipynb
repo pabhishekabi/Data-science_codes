{
  "nbformat": 4,
  "nbformat_minor": 0,
  "metadata": {
    "colab": {
      "name": "Data science assignment-1 Q-7 codes",
      "provenance": [],
      "collapsed_sections": [],
      "authorship_tag": "ABX9TyPYPGpJisHAfULD7BeUyaRh",
      "include_colab_link": true
    },
    "kernelspec": {
      "name": "python3",
      "display_name": "Python 3"
    },
    "language_info": {
      "name": "python"
    }
  },
  "cells": [
    {
      "cell_type": "markdown",
      "metadata": {
        "id": "view-in-github",
        "colab_type": "text"
      },
      "source": [
        "<a href=\"https://colab.research.google.com/github/pabhishekabi/Data-science_codes/blob/main/Data_science_assignment_1_Q_7_codes.ipynb\" target=\"_parent\"><img src=\"https://colab.research.google.com/assets/colab-badge.svg\" alt=\"Open In Colab\"/></a>"
      ]
    },
    {
      "cell_type": "code",
      "execution_count": 1,
      "metadata": {
        "id": "-MXt2gc66tNc"
      },
      "outputs": [],
      "source": [
        "import numpy as np\n",
        "import pandas as pd\n",
        "import matplotlib.pyplot as plt\n",
        "import seaborn as sns\n",
        "%matplotlib inline"
      ]
    },
    {
      "cell_type": "code",
      "source": [
        "cars=pd.read_csv(\"/content/Q7.csv\")"
      ],
      "metadata": {
        "id": "3smFf_347ZKa"
      },
      "execution_count": 3,
      "outputs": []
    },
    {
      "cell_type": "code",
      "source": [
        "cars"
      ],
      "metadata": {
        "id": "MnqR2wAn7d32"
      },
      "execution_count": null,
      "outputs": []
    },
    {
      "cell_type": "code",
      "source": [
        ""
      ],
      "metadata": {
        "id": "3y47JdP-7m8J"
      },
      "execution_count": null,
      "outputs": []
    },
    {
      "cell_type": "markdown",
      "source": [
        "# Mean & median for whole data set"
      ],
      "metadata": {
        "id": "Kn3a1dpT8Jwn"
      }
    },
    {
      "cell_type": "code",
      "source": [
        "cars.mean()"
      ],
      "metadata": {
        "id": "0I_FL4Xn8bnF"
      },
      "execution_count": null,
      "outputs": []
    },
    {
      "cell_type": "code",
      "source": [
        "cars.median()"
      ],
      "metadata": {
        "id": "oqDU436Q8eg6"
      },
      "execution_count": null,
      "outputs": []
    },
    {
      "cell_type": "code",
      "source": [
        "# Mode\n",
        "cars.Points.mode() "
      ],
      "metadata": {
        "colab": {
          "base_uri": "https://localhost:8080/"
        },
        "id": "nEFSbyE18oGf",
        "outputId": "5b8a25a8-ff05-45ab-8da3-9dab9bf76620"
      },
      "execution_count": 12,
      "outputs": [
        {
          "output_type": "execute_result",
          "data": {
            "text/plain": [
              "0    3.07\n",
              "1    3.92\n",
              "dtype: float64"
            ]
          },
          "metadata": {},
          "execution_count": 12
        }
      ]
    },
    {
      "cell_type": "code",
      "source": [
        "cars.Score.mode()"
      ],
      "metadata": {
        "id": "px4YTxyd9IUf"
      },
      "execution_count": null,
      "outputs": []
    },
    {
      "cell_type": "code",
      "source": [
        "cars.Weigh.mode()"
      ],
      "metadata": {
        "id": "IQjDKFCz9KTy"
      },
      "execution_count": null,
      "outputs": []
    },
    {
      "cell_type": "code",
      "source": [
        "# Variance\n",
        "cars.var()"
      ],
      "metadata": {
        "id": "5Bd1y7w59Prh"
      },
      "execution_count": null,
      "outputs": []
    },
    {
      "cell_type": "code",
      "source": [
        "# Satndard Deviation\n",
        "cars.std()"
      ],
      "metadata": {
        "id": "wO5Mr1f29WUb"
      },
      "execution_count": null,
      "outputs": []
    },
    {
      "cell_type": "code",
      "source": [
        "## Range ##"
      ],
      "metadata": {
        "id": "bTeaGSnJ9atQ"
      },
      "execution_count": null,
      "outputs": []
    },
    {
      "cell_type": "code",
      "source": [
        "cars.describe()"
      ],
      "metadata": {
        "id": "WZJAail99ifk"
      },
      "execution_count": null,
      "outputs": []
    },
    {
      "cell_type": "code",
      "source": [
        "Points_Range=cars.Points.max()-cars.Points.min()\n",
        "Points_Range"
      ],
      "metadata": {
        "id": "Vy_9hu1e9m50"
      },
      "execution_count": null,
      "outputs": []
    },
    {
      "cell_type": "code",
      "source": [
        "Score_Range=cars.Score.max()-cars.Score.min()\n",
        "Score_Range"
      ],
      "metadata": {
        "id": "DvPc9bce9tEo"
      },
      "execution_count": null,
      "outputs": []
    },
    {
      "cell_type": "code",
      "source": [
        "Weigh_Range=cars.Weigh.max()-cars.Weigh.min()\n",
        "Weigh_Range"
      ],
      "metadata": {
        "id": "LsLXSQJl9xUc"
      },
      "execution_count": null,
      "outputs": []
    },
    {
      "cell_type": "code",
      "source": [
        "f,ax=plt.subplots(figsize=(15,5))\n",
        "plt.subplot(1,3,1)\n",
        "plt.boxplot(cars.Points)\n",
        "plt.title('Points')\n",
        "plt.subplot(1,3,2)\n",
        "plt.boxplot(cars.Score)\n",
        "plt.title('Score')\n",
        "plt.subplot(1,3,3)\n",
        "plt.boxplot(cars.Weigh)\n",
        "plt.title('Weigh')\n",
        "plt.show()\n"
      ],
      "metadata": {
        "id": "ZEt-rsD890ol"
      },
      "execution_count": null,
      "outputs": []
    },
    {
      "cell_type": "code",
      "source": [
        ""
      ],
      "metadata": {
        "id": "PR3qLEf-95Ix"
      },
      "execution_count": null,
      "outputs": []
    }
  ]
}